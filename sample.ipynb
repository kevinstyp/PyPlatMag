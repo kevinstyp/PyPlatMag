{
 "cells": [
  {
   "cell_type": "markdown",
   "metadata": {
    "collapsed": false,
    "jupyter": {
     "outputs_hidden": false
    }
   },
   "source": [
    "## Sample execution of the repository\n",
    "\n",
    "The config file must be set accordingly. The default directs to the data folder, where the minimal example will be downloaded to and other files generated as well. This can be easily set to an external location if the data become large.\n",
    "\n",
    "Then, a minimal working example file can be downloaded from ftp://magftp.gfz-potsdam.de/PyPlatMag/ for December (12) of 2009 for the GOCE satellite mission to showcase the use of the repository."
   ]
  },
  {
   "cell_type": "code",
   "execution_count": null,
   "metadata": {
    "collapsed": false,
    "jupyter": {
     "outputs_hidden": false
    },
    "pycharm": {
     "name": "#%%\n"
    }
   },
   "outputs": [],
   "source": [
    "import urllib.request\n",
    "import os\n",
    "from pathlib import Path\n",
    "\n",
    "def download_file(url, dir, filename):\n",
    "    if not os.path.exists(dir):\n",
    "        os.makedirs(dir)\n",
    "    print(f\"Downloading {filename}...\")\n",
    "    filename = dir + filename\n",
    "    urllib.request.urlretrieve(url, filename)\n",
    "    print(f\"Downloading {filename} completed\")\n",
    "\n",
    "dirname = os.path.abspath('')\n",
    "print(\"prev dirname: \", dirname)\n",
    "orbit_path = os.path.join(dirname, 'data/orbit/')\n",
    "goce_path = os.path.join(dirname, 'data/raw/')\n",
    "write_path = os.path.join(dirname, 'data/intermediate/')\n",
    "download_file('ftp://magftp.gfz-potsdam.de/PyPlatMag/GO_data_200912.h5', goce_path, 'GO_data_200912.h5')\n",
    "download_file('ftp://magftp.gfz-potsdam.de/PyPlatMag/GO_rawdata_200912.h5', goce_path, 'GO_rawdata_200912.h5')\n",
    "download_file('ftp://magftp.gfz-potsdam.de/PyPlatMag/GO_rawdata_hk_200912.h5', goce_path, 'GO_rawdata_hk_200912.h5')\n",
    "download_file('ftp://magftp.gfz-potsdam.de/PyPlatMag/GO_rawdata_telemetry_200912.h5', goce_path, 'GO_rawdata_telemetry_200912.h5')\n",
    "download_file('ftp://magftp.gfz-potsdam.de/PyPlatMag/GO_ORBCNT_20090317T231001_20131109T234516_0101.h5', orbit_path, 'GO_ORBCNT_20090317T231001_20131109T234516_0101.h5')\n"
   ]
  },
  {
   "cell_type": "markdown",
   "metadata": {
    "collapsed": false,
    "jupyter": {
     "outputs_hidden": false
    }
   },
   "source": [
    "Next, the required CDF-binaries are installed. You can skip this step if you have your cdf-installation already at a different place."
   ]
  },
  {
   "cell_type": "code",
   "execution_count": null,
   "metadata": {
    "collapsed": false,
    "jupyter": {
     "outputs_hidden": false
    },
    "pycharm": {
     "name": "#%%\n"
    }
   },
   "outputs": [],
   "source": [
    "# Optional: CDF(-binary) installation\n",
    "!wget https://spdf.gsfc.nasa.gov/pub/software/cdf/dist/latest/linux/cdf39_0-dist-all.tar.gz && \\\n",
    "!tar -xvf cdf39_0-dist-all.tar.gz\n",
    "!cd ./cdf39_0-dist\n",
    "!make OS=linux ENV=gnu CURSES=yes all\n",
    "!make test\n",
    "!make install\n",
    "!make clean"
   ]
  },
  {
   "cell_type": "markdown",
   "metadata": {
    "pycharm": {
     "name": "#%% md\n"
    }
   },
   "source": []
  },
  {
   "cell_type": "code",
   "execution_count": null,
   "metadata": {
    "collapsed": false,
    "jupyter": {
     "outputs_hidden": false
    },
    "pycharm": {
     "name": "#%%\n"
    }
   },
   "outputs": [],
   "source": [
    "import ruamel.yaml\n",
    "yaml = ruamel.yaml.YAML()\n",
    "with open('config.yaml') as fp:\n",
    "    data = yaml.load(fp)\n",
    "    data['goce_data_path'] = goce_path\n",
    "    data['write_path'] = write_path\n",
    "    data['orbit_counter_path'] = orbit_path + 'GO_ORBCNT_20090317T231001_20131109T234516_0101.h5'\n",
    "    ret = ruamel.yaml.comments.CommentedSeq()\n",
    "    ret.fa.set_flow_style()\n",
    "    ret.append('200912')\n",
    "    data['year_month_specifiers'] = ret\n",
    "    cdf_location_bin = os.path.join(dirname, \"cdf39_0-dist/bin/\")\n",
    "    cdf_location_lib = os.path.join(dirname, \"cdf39_0-dist/lib/\")\n",
    "    data['CDF_BIN'] = cdf_location_bin\n",
    "    data['CDF_LIB'] = cdf_location_lib\n",
    "\n",
    "with open('config.yaml', 'wb') as fp:\n",
    "    yaml.dump(data, fp)\n",
    "\n",
    "with open('config_goce.yaml') as fp:\n",
    "    data = yaml.load(fp)\n",
    "    data['cdf_config']['cdf_path'] = 'data/cdf/'\n",
    "    data['train_config']['learn_config']['epochs'] = 20\n",
    "    data['train_config']['learn_config']['epochs_finetune'] = 20\n",
    "\n",
    "\n",
    "with open('config_goce.yaml', 'wb') as fp:\n",
    "    yaml.dump(data, fp)"
   ]
  },
  {
   "cell_type": "markdown",
   "metadata": {
    "collapsed": false,
    "jupyter": {
     "outputs_hidden": false
    }
   },
   "source": [
    "After setting the config file accordingly, the processing can begin with the data reading, combining, and enriching: read_files()"
   ]
  },
  {
   "cell_type": "code",
   "execution_count": null,
   "metadata": {},
   "outputs": [],
   "source": [
    "from scripts.read_files import read_files\n",
    "\n",
    "read_files()"
   ]
  },
  {
   "cell_type": "markdown",
   "metadata": {
    "collapsed": false,
    "jupyter": {
     "outputs_hidden": false
    }
   },
   "source": [
    "Mean filling for NaNs is realized in read_files_nan_handling()"
   ]
  },
  {
   "cell_type": "code",
   "execution_count": null,
   "metadata": {
    "collapsed": false,
    "jupyter": {
     "outputs_hidden": false
    },
    "pycharm": {
     "name": "#%%\n"
    }
   },
   "outputs": [],
   "source": [
    "from scripts.read_files_nan_handling import read_files_nan_handling\n",
    "\n",
    "read_files_nan_handling()"
   ]
  },
  {
   "cell_type": "markdown",
   "metadata": {
    "collapsed": false,
    "jupyter": {
     "outputs_hidden": false
    }
   },
   "source": [
    "With this (final) intermediate dataset in place, the calculation of the global ML model for the calibration can begin:"
   ]
  },
  {
   "cell_type": "code",
   "execution_count": null,
   "metadata": {
    "collapsed": false,
    "jupyter": {
     "outputs_hidden": false
    },
    "pycharm": {
     "name": "#%%\n"
    }
   },
   "outputs": [],
   "source": [
    "from scripts.train_pinn import train_pinn\n",
    "\n",
    "train_pinn()"
   ]
  },
  {
   "cell_type": "markdown",
   "metadata": {
    "collapsed": false,
    "jupyter": {
     "outputs_hidden": false
    }
   },
   "source": [
    "Finetune the global model for single months:"
   ]
  },
  {
   "cell_type": "code",
   "execution_count": null,
   "metadata": {
    "collapsed": false,
    "jupyter": {
     "outputs_hidden": false
    },
    "pycharm": {
     "name": "#%%\n"
    }
   },
   "outputs": [],
   "source": [
    "from scripts.train_pinn_finetune import train_pinn_finetune\n",
    "\n",
    "train_pinn_finetune()"
   ]
  },
  {
   "cell_type": "markdown",
   "metadata": {
    "pycharm": {
     "name": "#%% md\n"
    }
   },
   "source": [
    "Finally, CDF files containing the calibration results are generated utilizing the finetunde monthly models."
   ]
  },
  {
   "cell_type": "code",
   "execution_count": null,
   "metadata": {
    "collapsed": false,
    "jupyter": {
     "outputs_hidden": false
    },
    "pycharm": {
     "name": "#%%\n"
    }
   },
   "outputs": [],
   "source": [
    "from scripts.generate_cdf_files import generate_cdf_files\n",
    "\n",
    "generate_cdf_files()"
   ]
  }
 ],
 "metadata": {
  "kernelspec": {
   "display_name": "Python 3 (ipykernel)",
   "language": "python",
   "name": "python3"
  },
  "language_info": {
   "codemirror_mode": {
    "name": "ipython",
    "version": 3
   },
   "file_extension": ".py",
   "mimetype": "text/x-python",
   "name": "python",
   "nbconvert_exporter": "python",
   "pygments_lexer": "ipython3",
   "version": "3.8.10"
  }
 },
 "nbformat": 4,
 "nbformat_minor": 4
}