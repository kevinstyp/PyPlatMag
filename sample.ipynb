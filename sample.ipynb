{
 "cells": [
  {
   "cell_type": "markdown",
   "metadata": {
    "collapsed": false,
    "jupyter": {
     "outputs_hidden": false
    }
   },
   "source": [
    "## Sample execution of the repository\n",
    "\n",
    "The config file must be set accordingly. The default directs to the data folder, where the minimal example will be downloaded to and other files generated as well. This can be easiyl set to an external location if the data become large.\n",
    "\n",
    "Then, a minimal working example file can be downloaded from (TODO) for December (12) of 2009 for the GOCE satellite mission to showcase the use of the repository."
   ]
  },
  {
   "cell_type": "code",
   "execution_count": 10,
   "metadata": {
    "collapsed": false,
    "jupyter": {
     "outputs_hidden": false
    },
    "pycharm": {
     "name": "#%%\n"
    }
   },
   "outputs": [],
   "source": [
    "import urllib.request\n",
    "import os\n",
    "def download_file(url, dir, filename):\n",
    "    if not os.path.exists(dir):\n",
    "        os.makedirs(dir)\n",
    "    filename = dir + filename\n",
    "    urllib.request.urlretrieve(url, filename)\n",
    "\n",
    "#download_file('', 'data/raw/', 'GOCE_data_200912.h5')\n",
    "download_file('ftp://magftp.gfz-potsdam.de/GOCE/MAGNETIC_FIELD/ORBCNT/GO_ORBCNT_20090317T231001_20131109T234516_0101.cdf', 'data/orbit/', 'GO_ORBCNT_20090317T231001_20131109T234516_0101.h5')\n"
   ]
  },
  {
   "cell_type": "markdown",
   "metadata": {
    "collapsed": false,
    "jupyter": {
     "outputs_hidden": false
    }
   },
   "source": [
    "abc"
   ]
  },
  {
   "cell_type": "code",
   "execution_count": 2,
   "metadata": {
    "collapsed": false,
    "jupyter": {
     "outputs_hidden": false
    },
    "pycharm": {
     "name": "#%%\n"
    }
   },
   "outputs": [
    {
     "ename": "YAMLStreamError",
     "evalue": "stream argument needs to have a write() method",
     "output_type": "error",
     "traceback": [
      "\u001B[0;31m---------------------------------------------------------------------------\u001B[0m",
      "\u001B[0;31mYAMLStreamError\u001B[0m                           Traceback (most recent call last)",
      "Cell \u001B[0;32mIn[2], line 15\u001B[0m\n\u001B[1;32m      5\u001B[0m \u001B[38;5;66;03m#for elem in data:\u001B[39;00m\n\u001B[1;32m      6\u001B[0m \u001B[38;5;66;03m#    code = yaml.load(inp)\u001B[39;00m\n\u001B[1;32m      7\u001B[0m \u001B[38;5;66;03m#code['name']['given'] = 'Bob'\u001B[39;00m\n\u001B[0;32m   (...)\u001B[0m\n\u001B[1;32m     12\u001B[0m     \u001B[38;5;66;03m#elif elem['orbit_counter_path']:\u001B[39;00m\n\u001B[1;32m     13\u001B[0m     \u001B[38;5;66;03m#    elem['orbit_counter_path'] = 'data/orbit/'\u001B[39;00m\n\u001B[1;32m     14\u001B[0m     data[\u001B[38;5;124m'\u001B[39m\u001B[38;5;124mgoce_data_path\u001B[39m\u001B[38;5;124m'\u001B[39m] \u001B[38;5;241m=\u001B[39m \u001B[38;5;124m'\u001B[39m\u001B[38;5;124mdata/raw/\u001B[39m\u001B[38;5;124m'\u001B[39m\n\u001B[0;32m---> 15\u001B[0m \u001B[43myaml\u001B[49m\u001B[38;5;241;43m.\u001B[39;49m\u001B[43mdump\u001B[49m\u001B[43m(\u001B[49m\u001B[43mdata\u001B[49m\u001B[43m,\u001B[49m\u001B[43m \u001B[49m\u001B[38;5;124;43m'\u001B[39;49m\u001B[38;5;124;43mconfig2.yaml\u001B[39;49m\u001B[38;5;124;43m'\u001B[39;49m\u001B[43m)\u001B[49m\n",
      "File \u001B[0;32m~/Desktop/git/gfz-gitlab/pyplatmag/venv/lib/python3.8/site-packages/ruamel/yaml/main.py:594\u001B[0m, in \u001B[0;36mYAML.dump\u001B[0;34m(self, data, stream, transform)\u001B[0m\n\u001B[1;32m    592\u001B[0m \u001B[38;5;28;01mif\u001B[39;00m stream \u001B[38;5;129;01mis\u001B[39;00m \u001B[38;5;28;01mNone\u001B[39;00m:\n\u001B[1;32m    593\u001B[0m     \u001B[38;5;28;01mraise\u001B[39;00m \u001B[38;5;167;01mTypeError\u001B[39;00m(\u001B[38;5;124m'\u001B[39m\u001B[38;5;124mNeed a stream argument when not dumping from context manager\u001B[39m\u001B[38;5;124m'\u001B[39m)\n\u001B[0;32m--> 594\u001B[0m \u001B[38;5;28;01mreturn\u001B[39;00m \u001B[38;5;28;43mself\u001B[39;49m\u001B[38;5;241;43m.\u001B[39;49m\u001B[43mdump_all\u001B[49m\u001B[43m(\u001B[49m\u001B[43m[\u001B[49m\u001B[43mdata\u001B[49m\u001B[43m]\u001B[49m\u001B[43m,\u001B[49m\u001B[43m \u001B[49m\u001B[43mstream\u001B[49m\u001B[43m,\u001B[49m\u001B[43m \u001B[49m\u001B[43mtransform\u001B[49m\u001B[38;5;241;43m=\u001B[39;49m\u001B[43mtransform\u001B[49m\u001B[43m)\u001B[49m\n",
      "File \u001B[0;32m~/Desktop/git/gfz-gitlab/pyplatmag/venv/lib/python3.8/site-packages/ruamel/yaml/main.py:604\u001B[0m, in \u001B[0;36mYAML.dump_all\u001B[0;34m(self, documents, stream, transform)\u001B[0m\n\u001B[1;32m    602\u001B[0m \u001B[38;5;28mself\u001B[39m\u001B[38;5;241m.\u001B[39m_context_manager \u001B[38;5;241m=\u001B[39m YAMLContextManager(\u001B[38;5;28mself\u001B[39m, transform\u001B[38;5;241m=\u001B[39mtransform)\n\u001B[1;32m    603\u001B[0m \u001B[38;5;28;01mfor\u001B[39;00m data \u001B[38;5;129;01min\u001B[39;00m documents:\n\u001B[0;32m--> 604\u001B[0m     \u001B[38;5;28;43mself\u001B[39;49m\u001B[38;5;241;43m.\u001B[39;49m\u001B[43m_context_manager\u001B[49m\u001B[38;5;241;43m.\u001B[39;49m\u001B[43mdump\u001B[49m\u001B[43m(\u001B[49m\u001B[43mdata\u001B[49m\u001B[43m)\u001B[49m\n\u001B[1;32m    605\u001B[0m \u001B[38;5;28mself\u001B[39m\u001B[38;5;241m.\u001B[39m_context_manager\u001B[38;5;241m.\u001B[39mteardown_output()\n\u001B[1;32m    606\u001B[0m \u001B[38;5;28mself\u001B[39m\u001B[38;5;241m.\u001B[39m_output \u001B[38;5;241m=\u001B[39m \u001B[38;5;28;01mNone\u001B[39;00m\n",
      "File \u001B[0;32m~/Desktop/git/gfz-gitlab/pyplatmag/venv/lib/python3.8/site-packages/ruamel/yaml/main.py:951\u001B[0m, in \u001B[0;36mYAMLContextManager.dump\u001B[0;34m(self, data)\u001B[0m\n\u001B[1;32m    949\u001B[0m \u001B[38;5;28;01mdef\u001B[39;00m \u001B[38;5;21mdump\u001B[39m(\u001B[38;5;28mself\u001B[39m, data: Any) \u001B[38;5;241m-\u001B[39m\u001B[38;5;241m>\u001B[39m \u001B[38;5;28;01mNone\u001B[39;00m:\n\u001B[1;32m    950\u001B[0m     \u001B[38;5;28;01mif\u001B[39;00m \u001B[38;5;129;01mnot\u001B[39;00m \u001B[38;5;28mself\u001B[39m\u001B[38;5;241m.\u001B[39m_output_inited:\n\u001B[0;32m--> 951\u001B[0m         \u001B[38;5;28;43mself\u001B[39;49m\u001B[38;5;241;43m.\u001B[39;49m\u001B[43minit_output\u001B[49m\u001B[43m(\u001B[49m\u001B[43mdata\u001B[49m\u001B[43m)\u001B[49m\n\u001B[1;32m    952\u001B[0m     \u001B[38;5;28;01mtry\u001B[39;00m:\n\u001B[1;32m    953\u001B[0m         \u001B[38;5;28mself\u001B[39m\u001B[38;5;241m.\u001B[39m_yaml\u001B[38;5;241m.\u001B[39mrepresenter\u001B[38;5;241m.\u001B[39mrepresent(data)\n",
      "File \u001B[0;32m~/Desktop/git/gfz-gitlab/pyplatmag/venv/lib/python3.8/site-packages/ruamel/yaml/main.py:945\u001B[0m, in \u001B[0;36mYAMLContextManager.init_output\u001B[0;34m(self, first_data)\u001B[0m\n\u001B[1;32m    943\u001B[0m \u001B[38;5;28;01melse\u001B[39;00m:\n\u001B[1;32m    944\u001B[0m     tlca \u001B[38;5;241m=\u001B[39m \u001B[38;5;28mself\u001B[39m\u001B[38;5;241m.\u001B[39m_yaml\u001B[38;5;241m.\u001B[39mtop_level_colon_align\n\u001B[0;32m--> 945\u001B[0m \u001B[38;5;28;43mself\u001B[39;49m\u001B[38;5;241;43m.\u001B[39;49m\u001B[43m_yaml\u001B[49m\u001B[38;5;241;43m.\u001B[39;49m\u001B[43mget_serializer_representer_emitter\u001B[49m\u001B[43m(\u001B[49m\u001B[38;5;28;43mself\u001B[39;49m\u001B[38;5;241;43m.\u001B[39;49m\u001B[43m_output\u001B[49m\u001B[43m,\u001B[49m\u001B[43m \u001B[49m\u001B[43mtlca\u001B[49m\u001B[43m)\u001B[49m\n\u001B[1;32m    946\u001B[0m \u001B[38;5;28mself\u001B[39m\u001B[38;5;241m.\u001B[39m_yaml\u001B[38;5;241m.\u001B[39mserializer\u001B[38;5;241m.\u001B[39mopen()\n\u001B[1;32m    947\u001B[0m \u001B[38;5;28mself\u001B[39m\u001B[38;5;241m.\u001B[39m_output_inited \u001B[38;5;241m=\u001B[39m \u001B[38;5;28;01mTrue\u001B[39;00m\n",
      "File \u001B[0;32m~/Desktop/git/gfz-gitlab/pyplatmag/venv/lib/python3.8/site-packages/ruamel/yaml/main.py:663\u001B[0m, in \u001B[0;36mYAML.get_serializer_representer_emitter\u001B[0;34m(self, stream, tlca)\u001B[0m\n\u001B[1;32m    661\u001B[0m \u001B[38;5;28;01mif\u001B[39;00m \u001B[38;5;28mself\u001B[39m\u001B[38;5;241m.\u001B[39mSerializer \u001B[38;5;129;01mis\u001B[39;00m \u001B[38;5;28;01mNone\u001B[39;00m:\n\u001B[1;32m    662\u001B[0m     \u001B[38;5;28mself\u001B[39m\u001B[38;5;241m.\u001B[39mSerializer \u001B[38;5;241m=\u001B[39m ruamel\u001B[38;5;241m.\u001B[39myaml\u001B[38;5;241m.\u001B[39mserializer\u001B[38;5;241m.\u001B[39mSerializer\n\u001B[0;32m--> 663\u001B[0m \u001B[38;5;28;43mself\u001B[39;49m\u001B[38;5;241;43m.\u001B[39;49m\u001B[43memitter\u001B[49m\u001B[38;5;241;43m.\u001B[39;49m\u001B[43mstream\u001B[49m \u001B[38;5;241m=\u001B[39m stream\n\u001B[1;32m    664\u001B[0m \u001B[38;5;28mself\u001B[39m\u001B[38;5;241m.\u001B[39memitter\u001B[38;5;241m.\u001B[39mtop_level_colon_align \u001B[38;5;241m=\u001B[39m tlca\n\u001B[1;32m    665\u001B[0m \u001B[38;5;28;01mif\u001B[39;00m \u001B[38;5;28mself\u001B[39m\u001B[38;5;241m.\u001B[39mscalar_after_indicator \u001B[38;5;129;01mis\u001B[39;00m \u001B[38;5;129;01mnot\u001B[39;00m \u001B[38;5;28;01mNone\u001B[39;00m:\n",
      "File \u001B[0;32m~/Desktop/git/gfz-gitlab/pyplatmag/venv/lib/python3.8/site-packages/ruamel/yaml/emitter.py:240\u001B[0m, in \u001B[0;36mEmitter.stream\u001B[0;34m(self, val)\u001B[0m\n\u001B[1;32m    238\u001B[0m     \u001B[38;5;28;01mreturn\u001B[39;00m\n\u001B[1;32m    239\u001B[0m \u001B[38;5;28;01mif\u001B[39;00m \u001B[38;5;129;01mnot\u001B[39;00m \u001B[38;5;28mhasattr\u001B[39m(val, \u001B[38;5;124m'\u001B[39m\u001B[38;5;124mwrite\u001B[39m\u001B[38;5;124m'\u001B[39m):\n\u001B[0;32m--> 240\u001B[0m     \u001B[38;5;28;01mraise\u001B[39;00m YAMLStreamError(\u001B[38;5;124m'\u001B[39m\u001B[38;5;124mstream argument needs to have a write() method\u001B[39m\u001B[38;5;124m'\u001B[39m)\n\u001B[1;32m    241\u001B[0m \u001B[38;5;28mself\u001B[39m\u001B[38;5;241m.\u001B[39m_stream \u001B[38;5;241m=\u001B[39m val\n",
      "\u001B[0;31mYAMLStreamError\u001B[0m: stream argument needs to have a write() method"
     ]
    }
   ],
   "source": [
    "import ruamel.yaml\n",
    "yaml = ruamel.yaml.YAML()\n",
    "with open('config.yaml') as fp:\n",
    "    data = yaml.load(fp)\n",
    "    data['goce_data_path'] = 'data/raw/'\n",
    "    data['write_path'] = 'data/intermediate/'\n",
    "    data['orbit_counter_path'] = 'data/orbit/GO_ORBCNT_20090317T231001_20131109T234516_0101.h5'\n",
    "\n",
    "with open('config.yaml', 'wb') as fp:\n",
    "    yaml.dump(data, fp)\n",
    "\n",
    "with open('config_goce.yaml') as fp:\n",
    "    data = yaml.load(fp)\n",
    "    data['cdf_config']['cdf_path'] = 'data/cdf/'\n",
    "\n",
    "with open('config_goce.yaml', 'wb') as fp:\n",
    "    yaml.dump(data, fp)"
   ]
  },
  {
   "cell_type": "markdown",
   "metadata": {
    "collapsed": false,
    "jupyter": {
     "outputs_hidden": false
    }
   },
   "source": [
    "abc"
   ]
  },
  {
   "cell_type": "code",
   "execution_count": null,
   "metadata": {
    "collapsed": true,
    "jupyter": {
     "outputs_hidden": true
    }
   },
   "outputs": [],
   "source": [
    "from scripts.read_files import read_files\n",
    "\n",
    "read_files()"
   ]
  },
  {
   "cell_type": "markdown",
   "metadata": {
    "collapsed": false,
    "jupyter": {
     "outputs_hidden": false
    }
   },
   "source": [
    "abc"
   ]
  },
  {
   "cell_type": "code",
   "execution_count": null,
   "metadata": {
    "collapsed": false,
    "jupyter": {
     "outputs_hidden": false
    },
    "pycharm": {
     "name": "#%%\n"
    }
   },
   "outputs": [],
   "source": [
    "from scripts.read_files_nan_handling import read_files_nan_handling\n",
    "\n",
    "read_files_nan_handling()"
   ]
  },
  {
   "cell_type": "markdown",
   "metadata": {
    "collapsed": false,
    "jupyter": {
     "outputs_hidden": false
    }
   },
   "source": [
    "abc"
   ]
  },
  {
   "cell_type": "code",
   "execution_count": null,
   "metadata": {
    "collapsed": false,
    "jupyter": {
     "outputs_hidden": false
    },
    "pycharm": {
     "name": "#%%\n"
    }
   },
   "outputs": [],
   "source": [
    "from scripts.train_pinn import train_pinn\n",
    "\n",
    "train_pinn()"
   ]
  },
  {
   "cell_type": "markdown",
   "metadata": {
    "collapsed": false,
    "jupyter": {
     "outputs_hidden": false
    }
   },
   "source": [
    "abc"
   ]
  },
  {
   "cell_type": "code",
   "execution_count": null,
   "metadata": {
    "collapsed": false,
    "jupyter": {
     "outputs_hidden": false
    },
    "pycharm": {
     "name": "#%%\n"
    }
   },
   "outputs": [],
   "source": [
    "from scripts.generate_cdf_files import generate_cdf_files\n",
    "\n",
    "generate_cdf_files()"
   ]
  }
 ],
 "metadata": {
  "kernelspec": {
   "display_name": "Python 3 (ipykernel)",
   "language": "python",
   "name": "python3"
  },
  "language_info": {
   "codemirror_mode": {
    "name": "ipython",
    "version": 3
   },
   "file_extension": ".py",
   "mimetype": "text/x-python",
   "name": "python",
   "nbconvert_exporter": "python",
   "pygments_lexer": "ipython3",
   "version": "3.8.10"
  }
 },
 "nbformat": 4,
 "nbformat_minor": 4
}